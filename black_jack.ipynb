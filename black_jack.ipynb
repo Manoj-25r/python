{
  "nbformat": 4,
  "nbformat_minor": 0,
  "metadata": {
    "colab": {
      "provenance": [],
      "authorship_tag": "ABX9TyPpVnaFhVOX0jwwEDKVeWgS",
      "include_colab_link": true
    },
    "kernelspec": {
      "name": "python3",
      "display_name": "Python 3"
    },
    "language_info": {
      "name": "python"
    }
  },
  "cells": [
    {
      "cell_type": "markdown",
      "metadata": {
        "id": "view-in-github",
        "colab_type": "text"
      },
      "source": [
        "<a href=\"https://colab.research.google.com/github/Manoj-25r/python/blob/main/black_jack.ipynb\" target=\"_parent\"><img src=\"https://colab.research.google.com/assets/colab-badge.svg\" alt=\"Open In Colab\"/></a>"
      ]
    },
    {
      "cell_type": "code",
      "execution_count": 44,
      "metadata": {
        "colab": {
          "base_uri": "https://localhost:8080/"
        },
        "outputId": "652c6672-4db2-4ab3-9854-3de8fd26d6ce",
        "id": "8ZjsBuOQMH3j"
      },
      "outputs": [
        {
          "name": "stdout",
          "output_type": "stream",
          "text": [
            "Do you want to play a game of Blackjack? Type 'y' or 'n': y\n",
            "   Your cards: [11, 7], current score: 18\n",
            "   Computer's first card: 10\n",
            "Type 'y' to get another card, type 'n' to pass: n\n",
            "   Your final hand: [11, 7], final score: 18\n",
            "   Computer's final hand: [10, 4, 1, 6], final score: 21\n",
            "You lose 😤\n",
            "Do you want to play a game of Blackjack? Type 'y' or 'n': y\n",
            "   Your cards: [10, 10], current score: 20\n",
            "   Computer's first card: 2\n",
            "Type 'y' to get another card, type 'n' to pass: n\n",
            "   Your final hand: [10, 10], final score: 20\n",
            "   Computer's final hand: [2, 10, 4, 6], final score: 22\n",
            "Opponent went over. You win 😁\n",
            "Do you want to play a game of Blackjack? Type 'y' or 'n': y\n",
            "   Your cards: [9, 11], current score: 20\n",
            "   Computer's first card: 10\n",
            "Type 'y' to get another card, type 'n' to pass: n\n",
            "   Your final hand: [9, 11], final score: 20\n",
            "   Computer's final hand: [10, 7], final score: 17\n",
            "You win 😃\n",
            "Do you want to play a game of Blackjack? Type 'y' or 'n': y\n",
            "   Your cards: [10, 4], current score: 14\n",
            "   Computer's first card: 11\n",
            "   Your final hand: [10, 4], final score: 14\n",
            "   Computer's final hand: [11, 10], final score: 0\n",
            "Lose, opponent has Blackjack 😱\n",
            "Do you want to play a game of Blackjack? Type 'y' or 'n': y\n",
            "   Your cards: [8, 2], current score: 10\n",
            "   Computer's first card: 4\n",
            "Type 'y' to get another card, type 'n' to pass: y\n",
            "   Your cards: [8, 2, 5], current score: 15\n",
            "   Computer's first card: 4\n",
            "Type 'y' to get another card, type 'n' to pass: y\n",
            "   Your cards: [8, 2, 5, 1], current score: 16\n",
            "   Computer's first card: 4\n",
            "Type 'y' to get another card, type 'n' to pass: n\n",
            "   Your final hand: [8, 2, 5, 1], final score: 16\n",
            "   Computer's final hand: [4, 7, 3, 5], final score: 19\n",
            "You lose 😤\n",
            "Do you want to play a game of Blackjack? Type 'y' or 'n': n\n"
          ]
        }
      ],
      "source": [
        "############### Blackjack Project #####################\n",
        "\n",
        "############### Our Blackjack House Rules #####################\n",
        "\n",
        "## The deck is unlimited in size.\n",
        "## There are no jokers.\n",
        "## The Jack/Queen/King all count as 10.\n",
        "## The the Ace can count as 11 or 1.\n",
        "## Use the following list as the deck of cards:\n",
        "## cards = [11, 2, 3, 4, 5, 6, 7, 8, 9, 10, 10, 10, 10]\n",
        "## The cards in the list have equal probability of being drawn.\n",
        "## Cards are not removed from the deck as they are drawn.\n",
        "import random\n",
        "\n",
        "def deal_cards():\n",
        "  cards = [11,2,3,4,5,6,7,8,9,10,10,10]\n",
        "  card = random.choice(cards)\n",
        "  return card\n",
        "\n",
        "def calculate_score(cards):\n",
        "    if sum(cards) == 21 and len(cards) == 2 :\n",
        "        return 0\n",
        "\n",
        "    if 11 in cards and sum(cards) > 21:\n",
        "        cards.remove(11)\n",
        "        cards.append(1)\n",
        "\n",
        "    return sum(cards)\n",
        "\n",
        "\n",
        "def compare_score(user_score,computer_score):\n",
        "\n",
        "    if user_score == computer_score:\n",
        "        return \"Draw 🙃\"\n",
        "    elif computer_score == 0:\n",
        "        return \"Lose, opponent has Blackjack 😱\"\n",
        "    elif user_score == 0:\n",
        "        return \"Win with a Blackjack 😎\"\n",
        "    elif user_score > 21:\n",
        "        return \"You went over. You lose 😭\"\n",
        "    elif computer_score > 21:\n",
        "        return \"Opponent went over. You win 😁\"\n",
        "    elif user_score > computer_score:\n",
        "        return \"You win 😃\"\n",
        "    else:\n",
        "        return \"You lose 😤\"\n",
        "\n",
        "def play_game():\n",
        "    user_cards = []\n",
        "    computer_cards = []\n",
        "    is_gameover = False\n",
        "\n",
        "    for _ in range(2):\n",
        "        user_cards.append(deal_cards())\n",
        "        computer_cards.append(deal_cards())\n",
        "\n",
        "    while not is_gameover:\n",
        "        user_score = calculate_score(user_cards)\n",
        "        computer_score = calculate_score(computer_cards)\n",
        "        print(f\"   Your cards: {user_cards}, current score: {user_score}\")\n",
        "        print(f\"   Computer's first card: {computer_cards[0]}\")\n",
        "\n",
        "        if user_score == 0 or computer_score == 0 or user_score > 21:\n",
        "            is_gameover = True\n",
        "        else:\n",
        "            card_wish = input(\"Type 'y' to get another card, type 'n' to pass: \")\n",
        "            if card_wish == 'y':\n",
        "                user_cards.append(deal_cards())\n",
        "            else:\n",
        "                is_gameover = True\n",
        "\n",
        "    while computer_score != 0 and computer_score < 17 :\n",
        "        computer_cards.append(deal_cards())\n",
        "        computer_score = calculate_score(computer_cards)\n",
        "\n",
        "    print(f\"   Your final hand: {user_cards}, final score: {user_score}\")\n",
        "    print(f\"   Computer's final hand: {computer_cards}, final score: {computer_score}\")\n",
        "    print(compare_score(user_score,computer_score))\n",
        "while input(\"Do you want to play a game of Blackjack? Type 'y' or 'n': \") == \"y\":\n",
        "    play_game()\n",
        "\n"
      ]
    },
    {
      "cell_type": "code",
      "source": [],
      "metadata": {
        "id": "DG6P-dY8OeFa"
      },
      "execution_count": null,
      "outputs": []
    }
  ]
}