{
  "nbformat": 4,
  "nbformat_minor": 0,
  "metadata": {
    "colab": {
      "provenance": [],
      "authorship_tag": "ABX9TyMbQZVERkpaMIhra5mLLrn2",
      "include_colab_link": true
    },
    "kernelspec": {
      "name": "python3",
      "display_name": "Python 3"
    },
    "language_info": {
      "name": "python"
    }
  },
  "cells": [
    {
      "cell_type": "markdown",
      "metadata": {
        "id": "view-in-github",
        "colab_type": "text"
      },
      "source": [
        "<a href=\"https://colab.research.google.com/github/Manoj-25r/python/blob/main/python_initial.ipynb\" target=\"_parent\"><img src=\"https://colab.research.google.com/assets/colab-badge.svg\" alt=\"Open In Colab\"/></a>"
      ]
    },
    {
      "cell_type": "code",
      "execution_count": 1,
      "metadata": {
        "colab": {
          "base_uri": "https://localhost:8080/"
        },
        "id": "UdAS13ogOg9O",
        "outputId": "d434b79f-6766-4581-fc25-3a73b90b78a1"
      },
      "outputs": [
        {
          "output_type": "stream",
          "name": "stdout",
          "text": [
            "HEllo\n"
          ]
        }
      ],
      "source": [
        "print('HEllo')"
      ]
    },
    {
      "cell_type": "code",
      "source": [
        "# You are painting a wall. The instructions on the paint can says that 1 can of paint can cover 5 square meters of wall. Given a random height and width of wall, calculate how many cans of paint you'll need to buy.\n",
        "\n",
        "# number of cans = (wall height x wall width) ÷ coverage per can.\n",
        "\n",
        "# e.g. Height = 2, Width = 4, Coverage = 5\n",
        "\n",
        " #number of cans = (2 * 4) / 5\n",
        "\n",
        "            #                = 1.6\n",
        "\n",
        "# But because you can't buy 0.6 of a can of paint, the result should be rounded up to 2 cans.\n",
        "\n",
        "import math\n",
        "def paint_calc(height,width,cover):\n",
        "    res = (height * width) / cover\n",
        "    print(\"You'll need \" + str(math.ceil(res)) + \" cans of paint.\")\n",
        "test_h = int(input(\"Height of wall: \"))\n",
        "test_w = int(input(\"Width of wall: \"))\n",
        "coverage = 5\n",
        "paint_calc(height=test_h, width=test_w, cover=coverage)\n",
        "\n",
        "\n"
      ],
      "metadata": {
        "colab": {
          "base_uri": "https://localhost:8080/"
        },
        "id": "E-rE6UbHT4b8",
        "outputId": "544157e6-8586-459b-f9a4-65167a07aabc"
      },
      "execution_count": 2,
      "outputs": [
        {
          "output_type": "stream",
          "name": "stdout",
          "text": [
            "Height of wall: 3\n",
            "Width of wall: 9\n",
            "You'll need 6 cans of paint.\n"
          ]
        }
      ]
    },
    {
      "cell_type": "code",
      "source": [
        "def prime_checker(number):\n",
        "  is_prime = True\n",
        "  for i in range(2,number):\n",
        "    if (number % i == 0):\n",
        "      is_prime = False\n",
        "  if (is_prime == True) :\n",
        "    print(\"Its a prime \")\n",
        "  else :\n",
        "    print(\"Its not a prime\")\n",
        "number = int(input())\n",
        "prime_checker(number)"
      ],
      "metadata": {
        "colab": {
          "base_uri": "https://localhost:8080/"
        },
        "id": "gOfkbPY6XygG",
        "outputId": "710028fd-fdfd-4abb-e108-08a8098dff69"
      },
      "execution_count": 6,
      "outputs": [
        {
          "output_type": "stream",
          "name": "stdout",
          "text": [
            "10\n",
            "Its not a prime\n"
          ]
        }
      ]
    },
    {
      "cell_type": "code",
      "source": [
        "alphabet = ['a','b','c','d','e','f','g','h','i','j','k','l','m','n','o','p','q','r','s','t','u','v','w','x','y','z']\n",
        "direction = input('encrypt or decrypt')\n",
        "message = input('Enter the message')\n",
        "number = int(input('Enter the shift number'))\n",
        "if number > 26:\n",
        "    shift_number = number % 26\n",
        "else:\n",
        "    shift_number = number\n",
        "\n",
        "def encrypt(message,shift_number):\n",
        "    new_word = \" \"\n",
        "    for letter in message:\n",
        "        res = alphabet.index(letter) + shift_number\n",
        "        new_word += alphabet[res]\n",
        "    print(new_word)\n",
        "def decrypt(message,shift_number):\n",
        "    new_word = \" \"\n",
        "    for letter in message:\n",
        "        res = alphabet.index(letter) - shift_number\n",
        "        new_word += alphabet[res]\n",
        "    print(new_word)\n",
        "\n",
        "if direction == 'encrypt':\n",
        "    encrypt(message,shift_number)\n",
        "\n",
        "if direction == 'decrypt':\n",
        "    decrypt(message,shift_number)\n",
        "\n",
        "\n",
        "\n",
        ""
      ],
      "metadata": {
        "colab": {
          "base_uri": "https://localhost:8080/"
        },
        "id": "YON-zZT-ZxPh",
        "outputId": "c6699e1c-cd67-4d7f-c232-9efb12b56cec"
      },
      "execution_count": 20,
      "outputs": [
        {
          "output_type": "stream",
          "name": "stdout",
          "text": [
            "encrypt or decryptdecrypt\n",
            "Enter the messagewerhiit\n",
            "Enter the shift number4\n",
            " sandeep\n"
          ]
        }
      ]
    },
    {
      "cell_type": "code",
      "source": [],
      "metadata": {
        "id": "S0LMuYttUQLY"
      },
      "execution_count": null,
      "outputs": []
    },
    {
      "cell_type": "code",
      "source": [
        "student_scores = {\n",
        "  \"Harry\": 81,\n",
        "  \"Ron\": 78,\n",
        "  \"Hermione\": 99,\n",
        "  \"Draco\": 74,\n",
        "  \"Neville\": 62,\n",
        "}\n",
        "student_grades = {}\n",
        "for key in student_scores:\n",
        "        if (student_scores[key] >90 and student_scores[key] <= 100):\n",
        "                student_grades[key] = \"Outstanding.\"\n",
        "        elif (student_scores[key] >80 and student_scores[key] <= 90):\n",
        "                student_grades[key] = \"Exceeds Expectations.\"\n",
        "        elif (student_scores[key] >70 and student_scores[key] <= 80):\n",
        "                student_grades[key] = \"Acceptable.\"\n",
        "        else:\n",
        "            student_grades[key] = \"Fail.\"\n",
        "\n",
        "print(student_grades)"
      ],
      "metadata": {
        "colab": {
          "base_uri": "https://localhost:8080/"
        },
        "id": "2hJZvC20otE2",
        "outputId": "0bf1447d-a803-4184-cc49-fec5e937e760"
      },
      "execution_count": 22,
      "outputs": [
        {
          "output_type": "stream",
          "name": "stdout",
          "text": [
            "{'Harry': 'Exceeds Expectations.', 'Ron': 'Acceptable.', 'Hermione': 'Outstanding.', 'Draco': 'Acceptable.', 'Neville': 'Fail.'}\n"
          ]
        }
      ]
    },
    {
      "cell_type": "code",
      "source": [
        "travel_log = [\n",
        "{\n",
        "  \"country\": \"France\",\n",
        "  \"visits\": 12,\n",
        "  \"cities\": [\"Paris\", \"Lille\", \"Dijon\"]\n",
        "},\n",
        "{\n",
        "  \"country\": \"Germany\",\n",
        "  \"visits\": 5,\n",
        "  \"cities\": [\"Berlin\", \"Hamburg\", \"Stuttgart\"]\n",
        "},\n",
        "]\n",
        "\n",
        "def add_new_country(country,visits,list_of_cities):\n",
        "\n",
        "    new_country = {}\n",
        "    new_country[\"country\"] = country\n",
        "    new_country[\"visits\"] = visits\n",
        "    new_country[\"cities\"] = list_of_cities\n",
        "    travel_log.append(new_country)\n",
        "\n",
        "add_new_country(\"Russia\", 2, [\"Moscow\", \"Saint Petersburg\"])\n",
        "print(travel_log)\n"
      ],
      "metadata": {
        "colab": {
          "base_uri": "https://localhost:8080/"
        },
        "id": "LM_YAdesH_au",
        "outputId": "80d6a5d8-9f98-416b-83a2-322e5d181e35"
      },
      "execution_count": 29,
      "outputs": [
        {
          "output_type": "stream",
          "name": "stdout",
          "text": [
            "[{'country': 'France', 'visits': 12, 'cities': ['Paris', 'Lille', 'Dijon']}, {'country': 'Germany', 'visits': 5, 'cities': ['Berlin', 'Hamburg', 'Stuttgart']}, {'country': 'Russia', 'visits': 2, 'cities': ['Moscow', 'Saint Petersburg']}]\n"
          ]
        }
      ]
    },
    {
      "cell_type": "code",
      "source": [
        "\n",
        "bids = {}\n",
        "bidding_finished = False\n",
        "\n",
        "def find_highest_bidder(bidding_record):\n",
        "    highest_bidding = 0\n",
        "    winner = \"\"\n",
        "    for bidder in bidding_record:\n",
        "        bid_amount = bidding_record[bidder]\n",
        "        if bid_amount > highest_bidding:\n",
        "            highest_bidding = bid_amount\n",
        "            winner = bidder\n",
        "    print(f\"The Winner is {winner} with a bid of ${highest_bidding}\")\n",
        "\n",
        "\n",
        "while not bidding_finished:\n",
        "    name = input(\"Whats you name?: \")\n",
        "    price = int(input(\"whats your price?: $\"))\n",
        "    bids[name] = price\n",
        "    should_continue = input(\"Are there any members? 'yes' or 'no'\")\n",
        "    if should_continue == \"no\":\n",
        "        bidding_finished = True\n",
        "        find_highest_bidder(bids)\n",
        "    elif should_continue == \"yes\":\n",
        "      bidding_finished = False\n",
        "\n",
        "\n",
        "\n"
      ],
      "metadata": {
        "colab": {
          "base_uri": "https://localhost:8080/"
        },
        "id": "ppbYfsVPNtIb",
        "outputId": "c14c0bc7-4fb2-43ba-ba09-40c0a0312c93"
      },
      "execution_count": 18,
      "outputs": [
        {
          "output_type": "stream",
          "name": "stdout",
          "text": [
            "Whats you name?: a\n",
            "whats your price?: $20\n",
            "Are there any members? 'yes' or 'no'yes\n",
            "Whats you name?: b\n",
            "whats your price?: $40\n",
            "Are there any members? 'yes' or 'no'no\n",
            "The Winner is b with a bid of $40\n"
          ]
        }
      ]
    },
    {
      "cell_type": "code",
      "source": [
        "name = input()\n",
        "name1 = name.title()\n",
        "print(name1)"
      ],
      "metadata": {
        "colab": {
          "base_uri": "https://localhost:8080/"
        },
        "id": "mrkYs4OtUSR2",
        "outputId": "70137055-3bad-4edc-decb-47ccce25a06f"
      },
      "execution_count": 23,
      "outputs": [
        {
          "output_type": "stream",
          "name": "stdout",
          "text": [
            "hi this is manoj reddy\n",
            "Hi This Is Manoj Reddy\n"
          ]
        }
      ]
    },
    {
      "cell_type": "code",
      "source": [
        "def leap_year(year):\n",
        "    if year % 4 == 0 :\n",
        "        if year % 100 == 0:\n",
        "            if year % 400 == 0:\n",
        "                return True\n",
        "            else:\n",
        "                return False\n",
        "        else:\n",
        "            return True\n",
        "    else:\n",
        "        return False\n",
        "\n",
        "def days_in_month(year,month):\n",
        "   month_days = [31,28,31,30,31,30,31,31,30,31,30,31]\n",
        "   if month > 12 and month < 0:\n",
        "      return(\"Invalid month input\")\n",
        "   if leap_year(year) and month == 2:\n",
        "      return(29)\n",
        "   else:\n",
        "      return(month_days[month - 1])\n",
        "\n",
        "year = int(input(\"Enter the year\"))\n",
        "month = int(input(\"Enter the month\"))\n",
        "print(days_in_month(year,month))"
      ],
      "metadata": {
        "colab": {
          "base_uri": "https://localhost:8080/"
        },
        "id": "GBHfrzuFW2k-",
        "outputId": "3b9ae1f9-1eed-49f9-a283-0999a0c03a70"
      },
      "execution_count": 29,
      "outputs": [
        {
          "output_type": "stream",
          "name": "stdout",
          "text": [
            "Enter the year2024\n",
            "Enter the month2\n",
            "29\n"
          ]
        }
      ]
    },
    {
      "cell_type": "code",
      "source": [
        "#Calculator\n",
        "\n",
        "def add(n1,n2):\n",
        "     return n1 + n2\n",
        "\n",
        "def subtract(n1,n2):\n",
        "    return n1 - n2\n",
        "\n",
        "def multiply(n1,n2):\n",
        "    return n1 * n2\n",
        "\n",
        "def divide(n1,n2):\n",
        "      return n1 / n2\n",
        "\n",
        "\n",
        "operations = {\n",
        "    \"+\" : add,\n",
        "    \"-\" : subtract,\n",
        "    \"*\" : multiply,\n",
        "    \"/\" : divide\n",
        "}\n",
        "\n",
        "n1 = int(input(\"Enter the first number! \"))\n",
        "\n",
        "should_continue = True\n",
        "\n",
        "while should_continue :\n",
        "\n",
        "    print(\"Which operation do u want to perform\")\n",
        "    for key in operations:\n",
        "        print(key)\n",
        "    operation_symbol = input(\"Pick an operation from the above line provided\")\n",
        "    n2 = int(input(\"Enter the next number! \"))\n",
        "\n",
        "\n",
        "    calculation_function = operations[operation_symbol]\n",
        "    answer = calculation_function(n1,n2)\n",
        "    print(f\"{n1} {operation_symbol} {n2} = {answer}\")\n",
        "\n",
        "    another_cal = input(f\"do you want to continue your operation with {answer}   \\n type 'y' for yes and 'n' for no\")\n",
        "    if another_cal == \"y\" :\n",
        "        n1 = answer\n",
        "\n",
        "        print(\"Which operation do u want to perform\")\n",
        "        for key in operations:\n",
        "            print(key)\n",
        "        operation_symbol = input(\"Pick an operation from the above line provided\")\n",
        "        n2 = int(input(\"Enter the next number! \"))\n",
        "\n",
        "\n",
        "        calculation_function = operations[operation_symbol]\n",
        "        answer = calculation_function(n1,n2)\n",
        "        print(f\"{n1} {operation_symbol} {n2} = {answer}\")\n",
        "\n",
        "        another_cal = input(f\"do you want to continue your operation with {answer} \\n type  'y' for yes and 'n' for no\")\n",
        "    else:\n",
        "        print(\"Thanks come Again\")\n",
        "        should_continue = False\n",
        "\n",
        "\n",
        "\n",
        "\n"
      ],
      "metadata": {
        "colab": {
          "base_uri": "https://localhost:8080/"
        },
        "id": "LNkV3LFSZuIp",
        "outputId": "e0b483be-08a9-4e63-cc00-511ea86d955d"
      },
      "execution_count": 55,
      "outputs": [
        {
          "output_type": "stream",
          "name": "stdout",
          "text": [
            "Enter the first number! 7\n",
            "Which operation do u want to perform\n",
            "+\n",
            "-\n",
            "*\n",
            "/\n",
            "Pick an operation from the above line provided+\n",
            "Enter the next number! 4\n",
            "7 + 4 = 11\n",
            "do you want to continue your operation with 11   \n",
            " type 'y' for yes and 'n' for noy\n",
            "Which operation do u want to perform\n",
            "+\n",
            "-\n",
            "*\n",
            "/\n",
            "Pick an operation from the above line provided/\n",
            "Enter the next number! 2\n",
            "11 / 2 = 5.5\n",
            "do you want to continue your operation with 5.5 \n",
            " type  'y' for yes and 'n' for noy\n",
            "Which operation do u want to perform\n",
            "+\n",
            "-\n",
            "*\n",
            "/\n",
            "Pick an operation from the above line provided*\n",
            "Enter the next number! 11\n",
            "11 * 11 = 121\n",
            "do you want to continue your operation with 121   \n",
            " type 'y' for yes and 'n' for non\n",
            "Thanks come Again\n"
          ]
        }
      ]
    }
  ]
}